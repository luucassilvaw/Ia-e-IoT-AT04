{
  "nbformat": 4,
  "nbformat_minor": 0,
  "metadata": {
    "colab": {
      "provenance": []
    },
    "kernelspec": {
      "name": "python3",
      "display_name": "Python 3"
    },
    "language_info": {
      "name": "python"
    }
  },
  "cells": [
    {
      "cell_type": "code",
      "execution_count": 1,
      "metadata": {
        "colab": {
          "base_uri": "https://localhost:8080/"
        },
        "id": "0nsYaD-J9ojW",
        "outputId": "a767af7d-59fd-4c07-b807-4b3a96d52c43"
      },
      "outputs": [
        {
          "output_type": "stream",
          "name": "stdout",
          "text": [
            "Média (com módulo completo): 51.07142857142857\n",
            "Mediana (com módulo completo): 53.0\n"
          ]
        }
      ],
      "source": [
        "import statistics\n",
        "\n",
        "dados = [22, 28, 30, 35, 40, 45, 51, 55, 59, 63, 64, 68, 77, 78]\n",
        "\n",
        "# 2. Calculando média e mediana\n",
        "media = statistics.mean(dados)\n",
        "mediana = statistics.median(dados)\n",
        "\n",
        "print(\"Média (com módulo completo):\", media)\n",
        "print(\"Mediana (com módulo completo):\", mediana)"
      ]
    }
  ]
}